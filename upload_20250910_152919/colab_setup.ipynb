{
  "cells": [
    {
      "cell_type": "markdown",
      "metadata": {},
      "source": [
        "# Energy Balance Model (EBM) - Google Colab Setup\n",
        "\n",
        "這個筆記本將幫助您在Google Colab中設置和運行EBM氣候模擬專案。\n"
      ]
    },
    {
      "cell_type": "markdown",
      "metadata": {},
      "source": [
        "## 步驟1：掛載Google Drive\n",
        "\n",
        "首先，我們需要掛載您的Google Drive以訪問上傳的檔案。\n"
      ]
    },
    {
      "cell_type": "code",
      "execution_count": null,
      "metadata": {},
      "outputs": [],
      "source": [
        "from google.colab import drive\n",
        "drive.mount('/content/drive')\n"
      ]
    },
    {
      "cell_type": "markdown",
      "metadata": {},
      "source": [
        "## 步驟2：安裝必要的套件\n",
        "\n",
        "安裝運行EBM模型所需的Python套件。\n"
      ]
    },
    {
      "cell_type": "code",
      "execution_count": null,
      "metadata": {},
      "outputs": [],
      "source": [
        "!pip install gradio>=4.0.0 matplotlib>=3.5.0 pandas>=1.3.0 numpy>=1.21.0 seaborn>=0.11.0\n"
      ]
    },
    {
      "cell_type": "markdown",
      "metadata": {},
      "source": [
        "## 步驟3：設置工作目錄\n",
        "\n",
        "將工作目錄設置為您的ebm_project資料夾。\n"
      ]
    },
    {
      "cell_type": "code",
      "execution_count": null,
      "metadata": {},
      "outputs": [],
      "source": [
        "import os\n",
        "import sys\n",
        "\n",
        "# 設置工作目錄到您的ebm_project資料夾\n",
        "project_path = '/content/drive/MyDrive/ebm_project'\n",
        "os.chdir(project_path)\n",
        "sys.path.append(project_path)\n",
        "\n",
        "print(f\"當前工作目錄: {os.getcwd()}\")\n",
        "print(f\"檔案列表: {os.listdir('.')}\")\n"
      ]
    },
    {
      "cell_type": "markdown",
      "metadata": {},
      "source": [
        "## 步驟4：運行EBM應用程式\n",
        "\n",
        "現在我們可以運行EBM模型了。有兩種方式：\n"
      ]
    },
    {
      "cell_type": "markdown",
      "metadata": {},
      "source": [
        "### 選項1：使用Colab優化版本（推薦）\n"
      ]
    },
    {
      "cell_type": "code",
      "execution_count": null,
      "metadata": {},
      "outputs": [],
      "source": [
        "# 運行Colab優化版本\n",
        "!python colab_app.py\n"
      ]
    },
    {
      "cell_type": "markdown",
      "metadata": {},
      "source": [
        "### 選項2：在筆記本中直接運行（無需外部啟動）\n"
      ]
    },
    {
      "cell_type": "code",
      "execution_count": null,
      "metadata": {},
      "outputs": [],
      "source": [
        "# 導入並運行應用程式\n",
        "from colab_app import demo\n",
        "\n",
        "# 在Colab中啟動Gradio應用\n",
        "demo.launch(share=True, server_name=\"0.0.0.0\", server_port=7860)\n"
      ]
    }
  ],
  "metadata": {
    "language_info": {
      "name": "python"
    }
  },
  "nbformat": 4,
  "nbformat_minor": 2
}
